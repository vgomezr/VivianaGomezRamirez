{
 "cells": [
  {
   "cell_type": "code",
   "execution_count": 1,
   "metadata": {},
   "outputs": [],
   "source": [
    "import numpy as np\n",
    "import matplotlib.pyplot as plt"
   ]
  },
  {
   "cell_type": "code",
   "execution_count": 2,
   "metadata": {},
   "outputs": [],
   "source": [
    "N= 51\n",
    "v0=1.\n",
    "omega= 0.1\n",
    "h=1\n",
    "T=8\n",
    "H=8\n",
    "nu=0.2\n",
    "z=N*N\n",
    "R=v0*h/nu"
   ]
  },
  {
   "cell_type": "code",
   "execution_count": 3,
   "metadata": {},
   "outputs": [],
   "source": [
    "w=np.zeros([N,N])\n",
    "x=np.arange(0,N)\n",
    "y=np.arange(0,N)\n",
    "X,Y=np.meshgrid(x,y)"
   ]
  },
  {
   "cell_type": "code",
   "execution_count": 4,
   "metadata": {},
   "outputs": [],
   "source": [
    "def condiciones_frontera (u,w, N, v0, h, il, T):\n",
    "    for i in range(N):\n",
    "        for j in range(N):\n",
    "            w[j+N+i]= 0\n",
    "            u[j+N+i]= j*v0\n",
    "        \n",
    "    for i in range (N):\n",
    "        w[(N-1)+(N+1)*i]=0\n",
    "        u[(N)+(N+1)*i]=u[(N-1)+(N+1)*i]+v0*h\n",
    "        \n",
    "    for j in range(N):\n",
    "        u[j+(N+1)*1]= u[j]\n",
    "        w[j+(N+1)*0]=0\n",
    "        \n",
    "    for i in range(N):\n",
    "        if(i>=il) and (i<=il+T):\n",
    "            u[(N+1)*i]=0\n",
    "            w[(N+1)*i]=0\n",
    "            \n",
    "    for j in range(N):\n",
    "        w[j+(N+1)*(N)]=w[j+(N)*(N-1)]\n",
    "        u[j+(N+1)*(N)]=u[j+(N)*(N-1)]"
   ]
  },
  {
   "cell_type": "code",
   "execution_count": 5,
   "metadata": {},
   "outputs": [],
   "source": [
    "def v(u,w, N, v0, h, il, T, H):\n",
    "    for j in range(H):\n",
    "        w[j+(N+1)*il]=-2*(u[j+(N+1)*(il-1)]/(h*h));\n",
    "        w[j+(N+1)*(il+T)]=-2*(u[j+(N+1)*(IL+T+1)]/(h*h))\n",
    "    for i in range(T+il):\n",
    "        w[(H-1)+(N+1)*i]=-2*(u[H+(N+1)*i]/h*h)\n",
    "    for i in range(T+il):\n",
    "        for j in range(H):\n",
    "            u[j+(N+1)*il]=0\n",
    "            u[j+(N+1)*(il+T)]=0\n",
    "            u[H+(N+1)*i]=0"
   ]
  },
  {
   "cell_type": "code",
   "execution_count": 6,
   "metadata": {},
   "outputs": [],
   "source": [
    "def v(u,w, N,v0, h, il, T, H, omega, R):\n",
    "    \n",
    "    corriente(u,w,N,v0,h,il,T,H)\n",
    "    \n",
    "    for i in range (N):\n",
    "        for j in range(N):\n",
    "            r_1=omega*((u[j+(N+1)*(i+1)]+u[j+(N+1)*(i-1)]+u[j+1+(N+1)*i]+u[j-1+(N+1)*i] +h*h*w[j+(N+1)*i])*0.25-u[j+(N+1)*i])\n",
    "            u[j+(N+1)*i]+=r_1\n",
    "            \n",
    "    for i in range (N):\n",
    "        for j in range(N):\n",
    "            a_1=w[j+(N+1)*(i+1)] + w[j+(N+1)*(i-1)] + w[(j+1)+(N+1)*i] + w[(j-1)+(N+1)*i]\n",
    "            a_2=(u[(j+1)+(N+1)*i]-u[(j-1)+(N+1)*i])*(w[j+(N+1)*(i+1)]-w[j+(N+1)*(i-1)])\n",
    "            a_3=(u[j+(N+1)*(i+1)]-u[j+(N+1)*(i-1)])*(w[(j+1)+(N+1)*i]-w[(j-1)+(N+1)*i])\n",
    "            r_2=omega*((a_1-(R/4.0)*(a_2-a_3))/4.0 - w[j+(N+1)*i])\n",
    "            w[j+(N+1)*i]+=r2"
   ]
  }
 ],
 "metadata": {
  "kernelspec": {
   "display_name": "Python 3",
   "language": "python",
   "name": "python3"
  },
  "language_info": {
   "codemirror_mode": {
    "name": "ipython",
    "version": 3
   },
   "file_extension": ".py",
   "mimetype": "text/x-python",
   "name": "python",
   "nbconvert_exporter": "python",
   "pygments_lexer": "ipython3",
   "version": "3.7.4"
  }
 },
 "nbformat": 4,
 "nbformat_minor": 2
}
