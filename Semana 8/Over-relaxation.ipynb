{
 "cells": [
  {
   "cell_type": "code",
   "execution_count": 1,
   "metadata": {},
   "outputs": [],
   "source": [
    "%matplotlib notebook\n",
    "import numpy as np\n",
    "import matplotlib.pyplot as plt\n",
    "from matplotlib import rc\n",
    "from mpl_toolkits.mplot3d import axes3d\n",
    "from matplotlib import cm\n",
    "import matplotlib as mpl\n",
    "from tqdm import tqdm"
   ]
  },
  {
   "cell_type": "markdown",
   "metadata": {},
   "source": [
    "Para encontrar el paramétro de sobrerelajación óptimo debemos tener en cuenta el valor máximo en $x$, el valor máximo en $y$ y la discretización. Entonces, $n_x= \\frac{max_{x}}{h}$ y $n_y= \\frac{max_{y}}{h}$. Con esto definimos \n",
    "\n",
    "$$\\alpha= 0.5 (cos(\\pi/n_x)+cos(\\pi/n_y))$$\n",
    "\n",
    "Para finalmente obtener\n",
    "\n",
    "$$\\omega= \\frac{2}{1+\\sqrt{1-\\alpha^2}}$$"
   ]
  },
  {
   "cell_type": "markdown",
   "metadata": {},
   "source": [
    "En nuestro caso, se tiene que $N= 11= n_x=n_y$ y, por lo tanto, $\\omega_{opt}= 1.75$"
   ]
  },
  {
   "cell_type": "code",
   "execution_count": 2,
   "metadata": {},
   "outputs": [],
   "source": [
    "Min, Max, N = 0.,40.,11\n",
    "x = np.linspace(Min,Max,N)\n",
    "y = x.copy()\n",
    "h = x[1]-x[0]"
   ]
  },
  {
   "cell_type": "code",
   "execution_count": 3,
   "metadata": {},
   "outputs": [],
   "source": [
    "def h1(y):\n",
    "    return 100.\n",
    "def h2(y):\n",
    "    return 0.\n",
    "def h3(x):\n",
    "    return 0.\n",
    "def h4(x):\n",
    "    return 0."
   ]
  },
  {
   "cell_type": "code",
   "execution_count": 4,
   "metadata": {},
   "outputs": [],
   "source": [
    "def InitT():\n",
    "    \n",
    "    T = np.zeros((N,N))\n",
    "    \n",
    "    T[0,:] = h1(y)\n",
    "    T[-1,:] = h2(y)\n",
    "    \n",
    "    T[:,0] = h3(x)\n",
    "    T[:,-1] = h4(x)\n",
    "    \n",
    "    return T"
   ]
  },
  {
   "cell_type": "code",
   "execution_count": 5,
   "metadata": {},
   "outputs": [],
   "source": [
    "T = InitT()"
   ]
  },
  {
   "cell_type": "code",
   "execution_count": 6,
   "metadata": {},
   "outputs": [],
   "source": [
    "def GetGausSeidel(T, Nit = int(1e5), tolerancia = 1e-2):\n",
    "    \n",
    "    itmax = 0\n",
    "    \n",
    "    for it in tqdm(range(Nit)):\n",
    "        \n",
    "        dmax = 0.\n",
    "        \n",
    "        for i in range(1, len(x)-1):\n",
    "            for j in range(1, len(y)-1):\n",
    "                tmp = 0.25*(T[i+1,j]+T[i-1,j]+T[i,j+1]+T[i,j-1])\n",
    "                r = (tmp - T[i,j])\n",
    "                \n",
    "                T[i,j] += r\n",
    "                \n",
    "                if np.abs(r) > dmax:\n",
    "                    dmax = r\n",
    "       # print(T)\n",
    "       # print(it)\n",
    "        \n",
    "        if np.abs(dmax) < tolerancia:\n",
    "            print(it)\n",
    "            itmax = it\n",
    "            break\n",
    "            \n",
    "    return T,itmax"
   ]
  },
  {
   "cell_type": "code",
   "execution_count": 7,
   "metadata": {},
   "outputs": [],
   "source": [
    "def GetRelaxation(T, Nit = int(1e5), omega = 1.9, tolerancia = 1e-2):\n",
    "    \n",
    "    itmax = 0\n",
    "    \n",
    "    for it in tqdm(range(Nit)):\n",
    "        \n",
    "        dmax = 0.\n",
    "        \n",
    "        for i in range(1, len(x)-1):\n",
    "            for j in range(1, len(y)-1):\n",
    "                tmp = 0.25*(T[i+1,j]+T[i-1,j]+T[i,j+1]+T[i,j-1])\n",
    "                r = omega*(tmp - T[i,j])\n",
    "                \n",
    "                T[i,j] += r\n",
    "                \n",
    "                if np.abs(r) > dmax:\n",
    "                    dmax = r\n",
    "       # print(T)\n",
    "       # print(it)\n",
    "        \n",
    "        if np.abs(dmax) < tolerancia:\n",
    "            print(it)\n",
    "            itmax = it\n",
    "            break\n",
    "            \n",
    "    return T,itmax"
   ]
  },
  {
   "cell_type": "code",
   "execution_count": 8,
   "metadata": {},
   "outputs": [
    {
     "name": "stderr",
     "output_type": "stream",
     "text": [
      "  0%|          | 0/100000 [00:00<?, ?it/s]"
     ]
    },
    {
     "name": "stdout",
     "output_type": "stream",
     "text": [
      "52\n"
     ]
    },
    {
     "name": "stderr",
     "output_type": "stream",
     "text": [
      "\n"
     ]
    },
    {
     "data": {
      "text/plain": [
       "(array([[  0.        , 100.        , 100.        , 100.        ,\n",
       "         100.        , 100.        , 100.        , 100.        ,\n",
       "         100.        , 100.        ,   0.        ],\n",
       "        [  0.        ,  48.89250155,  67.47904217,  75.43605101,\n",
       "          78.89417826,  79.88201844,  78.89416995,  75.4360475 ,\n",
       "          67.47904785,  48.89250306,   0.        ],\n",
       "        [  0.        ,  28.09095679,  45.58762981,  55.37098272,\n",
       "          60.25863373,  61.73970825,  60.25862419,  55.37097727,\n",
       "          45.5876278 ,  28.09096281,   0.        ],\n",
       "        [  0.        ,  17.8837138 ,  31.40952395,  40.20160841,\n",
       "          45.02964327,  46.55956981,  45.02964279,  40.20160396,\n",
       "          31.40952427,  17.88371763,   0.        ],\n",
       "        [  0.        ,  12.03437899,  21.96514211,  28.99627758,\n",
       "          33.09877945,  34.43927985,  33.09877185,  28.99627986,\n",
       "          21.96514216,  12.03437948,   0.        ],\n",
       "        [  0.        ,   8.2886585 ,  15.42037611,  20.71960138,\n",
       "          23.92989982,  24.99999631,  23.92989641,  20.71959721,\n",
       "          15.42038131,   8.2886606 ,   0.        ],\n",
       "        [  0.        ,   5.69987323,  10.70812858,  14.531836  ,\n",
       "          16.90122207,  17.70091575,  16.90121875,  14.53183264,\n",
       "          10.70812569,   5.69988053,   0.        ],\n",
       "        [  0.        ,   3.80274305,   7.18041269,   9.7983982 ,\n",
       "          11.44223845,  12.00122903,  11.4422363 ,   9.79839178,\n",
       "           7.18040878,   3.8027365 ,   0.        ],\n",
       "        [  0.        ,   2.33065005,   4.41237429,   6.03909125,\n",
       "           7.06810327,   7.41952422,   7.0681036 ,   6.03909286,\n",
       "           4.41237578,   2.33065226,   0.        ],\n",
       "        [  0.        ,   1.10750046,   2.09934241,   2.87749955,\n",
       "           3.37156578,   3.54066427,   3.37156688,   2.87750137,\n",
       "           2.09934442,   1.10749859,   0.        ],\n",
       "        [  0.        ,   0.        ,   0.        ,   0.        ,\n",
       "           0.        ,   0.        ,   0.        ,   0.        ,\n",
       "           0.        ,   0.        ,   0.        ]]), 52)"
      ]
     },
     "execution_count": 8,
     "metadata": {},
     "output_type": "execute_result"
    }
   ],
   "source": [
    "T = InitT()\n",
    "GetRelaxation(T, int(1e5), 1.75, 1e-5)"
   ]
  }
 ],
 "metadata": {
  "kernelspec": {
   "display_name": "Python 3",
   "language": "python",
   "name": "python3"
  },
  "language_info": {
   "codemirror_mode": {
    "name": "ipython",
    "version": 3
   },
   "file_extension": ".py",
   "mimetype": "text/x-python",
   "name": "python",
   "nbconvert_exporter": "python",
   "pygments_lexer": "ipython3",
   "version": "3.7.4"
  }
 },
 "nbformat": 4,
 "nbformat_minor": 2
}
