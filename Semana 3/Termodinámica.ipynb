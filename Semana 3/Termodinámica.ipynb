{
 "cells": [
  {
   "cell_type": "code",
   "execution_count": 1,
   "metadata": {},
   "outputs": [],
   "source": [
    "import numpy as np\n",
    "import matplotlib.pyplot as plt\n",
    "from matplotlib import rc"
   ]
  },
  {
   "cell_type": "markdown",
   "metadata": {},
   "source": [
    "$\\textbf{Termodinámica}$\n"
   ]
  },
  {
   "cell_type": "code",
   "execution_count": 29,
   "metadata": {},
   "outputs": [],
   "source": [
    "C=1948./225.\n",
    "t0=[200,400]\n",
    "N = 50\n",
    "t = np.linspace(0.,1.,N)"
   ]
  },
  {
   "cell_type": "code",
   "execution_count": 30,
   "metadata": {},
   "outputs": [],
   "source": [
    "def f0(t1,t2,C):\n",
    "    return -C*(t1-t2)\n",
    "def f1(t1,t2,C):\n",
    "    return C*(t1-t2)"
   ]
  },
  {
   "cell_type": "code",
   "execution_count": 31,
   "metadata": {},
   "outputs": [],
   "source": [
    "def GetEuler(f0,f1,t0,t):\n",
    "    \n",
    "    h = (t[-1] - t[0])/(len(t)-1)\n",
    "    \n",
    "    t1 = np.zeros(len(t))\n",
    "    t2 = np.zeros(len(t))\n",
    "    \n",
    "    t1[0] = t0[0]\n",
    "    t2[0] = t0[1]\n",
    "    \n",
    "    K1 = np.zeros(2)\n",
    "    \n",
    "    for i in range( 1, len(t) ):\n",
    "        \n",
    "        K1[0] = f0(t1[i-1],t2[i-1],C)\n",
    "        K1[1] = f1(t1[i-1],t2[i-1],C)\n",
    "        \n",
    "        t1[i] = t1[i-1] + h*K1[0]\n",
    "        t2[i] = t2[i-1] + h*K1[1]\n",
    "        \n",
    "    return t1,t2"
   ]
  },
  {
   "cell_type": "code",
   "execution_count": 34,
   "metadata": {},
   "outputs": [],
   "source": [
    "t1,t2 = GetEuler(f0,f1,t0,t)"
   ]
  },
  {
   "cell_type": "code",
   "execution_count": 33,
   "metadata": {},
   "outputs": [
    {
     "data": {
      "text/plain": [
       "<matplotlib.legend.Legend at 0x112a04950>"
      ]
     },
     "execution_count": 33,
     "metadata": {},
     "output_type": "execute_result"
    },
    {
     "data": {
      "image/png": "[encoded data removed]",
      "text/plain": [
       "<Figure size 720x504 with 1 Axes>"
      ]
     },
     "metadata": {
      "needs_background": "light"
     },
     "output_type": "display_data"
    }
   ],
   "source": [
    "fig = plt.figure(figsize=(10,7))\n",
    "ax = fig.add_subplot(121)\n",
    "ax.plot(t,t1, label=r'$T_1$')\n",
    "ax.plot(t,t2, label=r'$T_2$')\n",
    "ax.legend()"
   ]
  },
  {
   "cell_type": "markdown",
   "metadata": {},
   "source": [
    "Es claro entonces que $\\lim_{x \\to \\infty} T_1(t) = \\lim_{x \\to \\infty} T_2(t) \\approx 300K$."
   ]
  }
 ],
 "metadata": {
  "kernelspec": {
   "display_name": "Python 3",
   "language": "python",
   "name": "python3"
  },
  "language_info": {
   "codemirror_mode": {
    "name": "ipython",
    "version": 3
   },
   "file_extension": ".py",
   "mimetype": "text/x-python",
   "name": "python",
   "nbconvert_exporter": "python",
   "pygments_lexer": "ipython3",
   "version": "3.7.4"
  }
 },
 "nbformat": 4,
 "nbformat_minor": 2
}
