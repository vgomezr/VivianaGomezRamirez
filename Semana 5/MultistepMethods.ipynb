{
 "cells": [
  {
   "cell_type": "code",
   "execution_count": 1,
   "metadata": {},
   "outputs": [],
   "source": [
    "import sympy as sym\n",
    "import numpy as np"
   ]
  },
  {
   "cell_type": "code",
   "execution_count": 2,
   "metadata": {},
   "outputs": [],
   "source": [
    "t = sym.Symbol('t',Real=True)\n",
    "h = sym.Symbol('h',Real=True)"
   ]
  },
  {
   "cell_type": "markdown",
   "metadata": {},
   "source": [
    "## Three-step Adams-Bashforth method"
   ]
  },
  {
   "cell_type": "code",
   "execution_count": 3,
   "metadata": {},
   "outputs": [],
   "source": [
    "F1 = (t-(-h))*(t-(-2*h))/(2*h**2)\n",
    "F2 = -(t-(0))*(t-(-2*h))/(h**2)\n",
    "F3 = (t-(-h))*(t-(0))/(2*h**2)"
   ]
  },
  {
   "cell_type": "code",
   "execution_count": 4,
   "metadata": {},
   "outputs": [
    {
     "name": "stdout",
     "output_type": "stream",
     "text": [
      "23*h/12 -4*h/3 5*h/12\n"
     ]
    }
   ],
   "source": [
    "I1 = sym.integrate(F1, (t,0,h))\n",
    "I2 = sym.integrate(F2, (t,0,h))\n",
    "I3 = sym.integrate(F3, (t,0,h))\n",
    "print(I1,I2,I3)"
   ]
  },
  {
   "cell_type": "markdown",
   "metadata": {},
   "source": [
    "## Four-step Adams-Bashforth method"
   ]
  },
  {
   "cell_type": "code",
   "execution_count": 5,
   "metadata": {},
   "outputs": [],
   "source": [
    "F1 = (t-(-h))*(t-(-2*h))*(t-(-3*h))/(6*h**3)\n",
    "F2 = -(t-(0))*(t-(-2*h))*(t-(-3*h))/(2*h**3)\n",
    "F3 =  (t-(0))*(t-(-h))*(t-(-3*h))/(2*h**3)\n",
    "F4 = -(t-(-2*h))*(t-(-h))*(t-(0))/(6*h**3)"
   ]
  },
  {
   "cell_type": "code",
   "execution_count": 6,
   "metadata": {},
   "outputs": [
    {
     "name": "stdout",
     "output_type": "stream",
     "text": [
      "55*h/24 -59*h/24 37*h/24 -3*h/8\n"
     ]
    }
   ],
   "source": [
    "I1 = sym.integrate(F1, (t,0,h))\n",
    "I2 = sym.integrate(F2, (t,0,h))\n",
    "I3 = sym.integrate(F3, (t,0,h))\n",
    "I4 = sym.integrate(F4, (t,0,h))\n",
    "print(I1,I2,I3,I4)"
   ]
  },
  {
   "cell_type": "markdown",
   "metadata": {},
   "source": [
    "## Three-step Adams-Moulton method"
   ]
  },
  {
   "cell_type": "code",
   "execution_count": 7,
   "metadata": {},
   "outputs": [],
   "source": [
    "F1 =(t-(0))*(t-(-h))/(2*h**2)\n",
    "F2 = (t-(0))*(t-(-2*h))/(h**2)\n",
    "F3 = (t+(-h))*(t-(0))/(2*h**2)"
   ]
  },
  {
   "cell_type": "code",
   "execution_count": 8,
   "metadata": {},
   "outputs": [
    {
     "name": "stdout",
     "output_type": "stream",
     "text": [
      "5*h/12 4*h/3 -h/12\n"
     ]
    }
   ],
   "source": [
    "I1 = sym.integrate(F1, (t,0,h))\n",
    "I2 = sym.integrate(F2, (t,0,h))\n",
    "I3 = sym.integrate(F3, (t,0,h))\n",
    "print(I1,I2,I3)"
   ]
  },
  {
   "cell_type": "markdown",
   "metadata": {},
   "source": [
    "## Four-step Adams-Moulton method"
   ]
  },
  {
   "cell_type": "code",
   "execution_count": 9,
   "metadata": {},
   "outputs": [],
   "source": [
    "F1 = (t-(0))*(t-(-h))*(t-(-2*h))/(6*h**3)\n",
    "F2 = (t+(-3*h))*(t+(-2*h))*(t-(0))/(2*h**3)\n",
    "F3 = -(t+(-3*h))*(t+(-h))*(t-(0))/(2*h**3)\n",
    "F4= (t+(-2*h))*(t+(-h))*(t-(0))/(6*h**3)"
   ]
  },
  {
   "cell_type": "code",
   "execution_count": 10,
   "metadata": {},
   "outputs": [
    {
     "name": "stdout",
     "output_type": "stream",
     "text": [
      "3*h/8 19*h/24 -5*h/24 h/24\n"
     ]
    }
   ],
   "source": [
    "I1 = sym.integrate(F1, (t,0,h))\n",
    "I2 = sym.integrate(F2, (t,0,h))\n",
    "I3 = sym.integrate(F3, (t,0,h))\n",
    "I4 = sym.integrate(F4, (t,0,h))\n",
    "print(I1,I2,I3,I4)"
   ]
  }
 ],
 "metadata": {
  "kernelspec": {
   "display_name": "Python 3",
   "language": "python",
   "name": "python3"
  },
  "language_info": {
   "codemirror_mode": {
    "name": "ipython",
    "version": 3
   },
   "file_extension": ".py",
   "mimetype": "text/x-python",
   "name": "python",
   "nbconvert_exporter": "python",
   "pygments_lexer": "ipython3",
   "version": "3.7.4"
  }
 },
 "nbformat": 4,
 "nbformat_minor": 2
}
